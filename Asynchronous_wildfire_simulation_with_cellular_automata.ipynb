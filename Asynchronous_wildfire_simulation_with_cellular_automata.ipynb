{
 "cells": [
  {
   "cell_type": "code",
   "execution_count": 1,
   "id": "2b687592-b60b-44ed-9ed8-7d36b37d3400",
   "metadata": {},
   "outputs": [
    {
     "data": {
      "text/html": [
       "<div id=\"glowscript\" class=\"glowscript\"></div>"
      ],
      "text/plain": [
       "<IPython.core.display.HTML object>"
      ]
     },
     "metadata": {},
     "output_type": "display_data"
    },
    {
     "data": {
      "application/javascript": [
       "if (typeof Jupyter !== \"undefined\") { window.__context = { glowscript_container: $(\"#glowscript\").removeAttr(\"id\")};}else{ element.textContent = ' ';}"
      ],
      "text/plain": [
       "<IPython.core.display.Javascript object>"
      ]
     },
     "metadata": {},
     "output_type": "display_data"
    }
   ],
   "source": [
    "from vpython import *\n",
    "import random\n",
    "import numpy as np"
   ]
  },
  {
   "cell_type": "markdown",
   "id": "88ec883d-025c-4062-99f9-34bb996166f9",
   "metadata": {},
   "source": [
    "## Final Project: Asynchronous Wildfire Simulation"
   ]
  },
  {
   "cell_type": "code",
   "execution_count": 2,
   "id": "0dd03ade-959c-4aac-ad9b-421a90ad10f6",
   "metadata": {},
   "outputs": [],
   "source": [
    "dir_x = [1, -1, 0, 0, 1, -1, 1, -1]\n",
    "dir_y = [0, 0, -1, 1, 1, -1, -1, 1]\n",
    "\n",
    "burn_x = [1, -1]\n",
    "burn_y = [-1, -1]\n",
    "\n",
    "# Update the next state of given cell (for async)\n",
    "def update_forest_arr_async(n, cell):\n",
    "    i, j = cell\n",
    "    cnt = 0\n",
    "    state = forest_arr[i][j].get_state()\n",
    "            \n",
    "    for k in range(8):\n",
    "        # check out-of-bound case\n",
    "        nx = i + dir_x[k]\n",
    "        ny = j + dir_y[k]\n",
    "        if nx < 0 or ny < 0 or nx >= n or ny >= n:\n",
    "            continue\n",
    "        if forest_arr[nx][ny].get_state() == 'fire' or forest_arr[nx][ny].get_state() == 'burned':\n",
    "            cnt += 1\n",
    "                    \n",
    "    # if current cell is a tree & fire surrounding\n",
    "    if state == 'tree':\n",
    "        if cnt >= 1:\n",
    "            forest_arr[i][j].set_state('fire')\n",
    "    # if current cell is a fire\n",
    "    elif state == 'fire':\n",
    "        fire_list.remove((i,j))\n",
    "        forest_arr[i][j].set_state('burnt')\n",
    "        if cnt >= 6:\n",
    "            for k in range(2):\n",
    "                nx = i + burn_x[k]\n",
    "                ny = j + burn_y[k]\n",
    "                if nx < 0 or ny < 0 or nx >= n or ny >= n:\n",
    "                    continue\n",
    "                if forest_arr[nx][ny].get_state() == 'fire':\n",
    "                    forest_arr[nx][ny].set_state('burnt')\n",
    "                    fire_list.remove((nx,ny))\n",
    "        else:\n",
    "            # Set nearby cells on fire\n",
    "            for k in range(4):\n",
    "                nx = i + dir_x[k]\n",
    "                ny = j + dir_y[k]\n",
    "                if nx < 0 or ny < 0 or nx >= n or ny >= n:\n",
    "                    continue\n",
    "                if forest_arr[nx][ny].get_state() == 'tree':\n",
    "                    forest_arr[nx][ny].set_state('fire')\n",
    "                    fire_list.append((nx, ny)) \n",
    "                \n",
    "\n",
    "def update_fire_list():\n",
    "    temp_fire_list = []\n",
    "    for i in range(len(fire_list)):\n",
    "        (i,j) = fire_list[i]\n",
    "        # Check content of fire_list to see if it's still on fire\n",
    "        if forest_arr[i][j].get_state() == 'fire':\n",
    "            # Put it into new list\n",
    "            if (i, j) not in temp_fire_list:\n",
    "                temp_fire_list.append((i, j))\n",
    "            # Search nearby cells to see if they caught on fire\n",
    "            for k in range(8):\n",
    "                nx = i + dir_x[k]\n",
    "                ny = j + dir_y[k]\n",
    "                if nx < 0 or ny < 0 or nx >= n or ny >= n:\n",
    "                    continue\n",
    "                # If not in list, add\n",
    "                if (nx, ny) not in temp_fire_list and forest_arr[i][j].get_state() == 'fire':\n",
    "                    temp_fire_list.append((nx, ny))            \n",
    "                        \n",
    "    return temp_fire_list"
   ]
  },
  {
   "cell_type": "code",
   "execution_count": 3,
   "id": "839ab2ce-2f1f-4c79-98c6-ef0fefa4e4a4",
   "metadata": {},
   "outputs": [],
   "source": [
    "class trees:\n",
    "    def __init__(self, position):\n",
    "        self.state = 'tree'\n",
    "        self.cell = box(pos=position, color=color.green*0.7)\n",
    "        \n",
    "    def get_state(self):\n",
    "        return self.state\n",
    "    \n",
    "    def get_cell(self):\n",
    "        return self.cell\n",
    "    \n",
    "    def set_state(self, s):\n",
    "        self.state = s\n",
    "        if self.state == 'tree':\n",
    "            self.set_color(color.green*0.7)\n",
    "        elif self.state == 'fire':\n",
    "            self.set_color(color.red*0.7)\n",
    "        elif self.state == 'burnt':\n",
    "            self.set_color(color.gray(0.3))\n",
    "        \n",
    "    def set_color(self, color):\n",
    "        self.cell.color = color"
   ]
  },
  {
   "cell_type": "code",
   "execution_count": 4,
   "id": "2252bdc5-23c5-4ab9-a67c-57363b156642",
   "metadata": {},
   "outputs": [
    {
     "data": {
      "text/html": [
       "<div id=\"glowscript\" class=\"glowscript\"></div>"
      ],
      "text/plain": [
       "<IPython.core.display.HTML object>"
      ]
     },
     "metadata": {},
     "output_type": "display_data"
    },
    {
     "data": {
      "application/javascript": [
       "if (typeof Jupyter !== \"undefined\") { window.__context = { glowscript_container: $(\"#glowscript\").removeAttr(\"id\")};}else{ element.textContent = ' ';}"
      ],
      "text/plain": [
       "<IPython.core.display.Javascript object>"
      ]
     },
     "metadata": {},
     "output_type": "display_data"
    },
    {
     "data": {
      "application/javascript": [
       "if (typeof Jupyter !== \"undefined\") {require.undef(\"nbextensions/vpython_libraries/glow.min\");}else{element.textContent = ' ';}"
      ],
      "text/plain": [
       "<IPython.core.display.Javascript object>"
      ]
     },
     "metadata": {},
     "output_type": "display_data"
    },
    {
     "data": {
      "application/javascript": [
       "if (typeof Jupyter !== \"undefined\") {require.undef(\"nbextensions/vpython_libraries/glowcomm\");}else{element.textContent = ' ';}"
      ],
      "text/plain": [
       "<IPython.core.display.Javascript object>"
      ]
     },
     "metadata": {},
     "output_type": "display_data"
    },
    {
     "data": {
      "application/javascript": [
       "if (typeof Jupyter !== \"undefined\") {require.undef(\"nbextensions/vpython_libraries/jquery-ui.custom.min\");}else{element.textContent = ' ';}"
      ],
      "text/plain": [
       "<IPython.core.display.Javascript object>"
      ]
     },
     "metadata": {},
     "output_type": "display_data"
    },
    {
     "data": {
      "application/javascript": [
       "if (typeof Jupyter !== \"undefined\") {require([\"nbextensions/vpython_libraries/glow.min\"], function(){console.log(\"GLOW LOADED\");});}else{element.textContent = ' ';}"
      ],
      "text/plain": [
       "<IPython.core.display.Javascript object>"
      ]
     },
     "metadata": {},
     "output_type": "display_data"
    },
    {
     "data": {
      "application/javascript": [
       "if (typeof Jupyter !== \"undefined\") {require([\"nbextensions/vpython_libraries/glowcomm\"], function(){console.log(\"GLOWCOMM LOADED\");});}else{element.textContent = ' ';}"
      ],
      "text/plain": [
       "<IPython.core.display.Javascript object>"
      ]
     },
     "metadata": {},
     "output_type": "display_data"
    },
    {
     "data": {
      "application/javascript": [
       "if (typeof Jupyter !== \"undefined\") {require([\"nbextensions/vpython_libraries/jquery-ui.custom.min\"], function(){console.log(\"JQUERY LOADED\");});}else{element.textContent = ' ';}"
      ],
      "text/plain": [
       "<IPython.core.display.Javascript object>"
      ]
     },
     "metadata": {},
     "output_type": "display_data"
    },
    {
     "ename": "KeyboardInterrupt",
     "evalue": "",
     "output_type": "error",
     "traceback": [
      "\u001b[0;31m---------------------------------------------------------------------------\u001b[0m",
      "\u001b[0;31mKeyboardInterrupt\u001b[0m                         Traceback (most recent call last)",
      "Cell \u001b[0;32mIn[4], line 16\u001b[0m\n\u001b[1;32m     14\u001b[0m time \u001b[38;5;241m=\u001b[39m \u001b[38;5;241m0\u001b[39m\n\u001b[1;32m     15\u001b[0m \u001b[38;5;28;01mwhile\u001b[39;00m \u001b[38;5;241m1\u001b[39m:\n\u001b[0;32m---> 16\u001b[0m     \u001b[43mrate\u001b[49m\u001b[43m(\u001b[49m\u001b[38;5;241;43m1\u001b[39;49m\u001b[43m)\u001b[49m\n\u001b[1;32m     17\u001b[0m     \u001b[38;5;66;03m# if everything is burned down to ashes, stop\u001b[39;00m\n\u001b[1;32m     18\u001b[0m     \u001b[38;5;28;01mif\u001b[39;00m (\u001b[38;5;28mlen\u001b[39m(fire_list)) \u001b[38;5;241m==\u001b[39m \u001b[38;5;241m0\u001b[39m:\n",
      "File \u001b[0;32m~/anaconda3/envs/ECE1180/lib/python3.10/site-packages/vpython/rate_control.py:266\u001b[0m, in \u001b[0;36m_RateKeeper2.__call__\u001b[0;34m(self, N)\u001b[0m\n\u001b[1;32m    264\u001b[0m \u001b[38;5;28mself\u001b[39m\u001b[38;5;241m.\u001b[39mrval \u001b[38;5;241m=\u001b[39m N\n\u001b[1;32m    265\u001b[0m \u001b[38;5;28;01mif\u001b[39;00m \u001b[38;5;28mself\u001b[39m\u001b[38;5;241m.\u001b[39mrval \u001b[38;5;241m<\u001b[39m \u001b[38;5;241m1\u001b[39m: \u001b[38;5;28;01mraise\u001b[39;00m \u001b[38;5;167;01mValueError\u001b[39;00m(\u001b[38;5;124m\"\u001b[39m\u001b[38;5;124mrate value must be greater than or equal to 1\u001b[39m\u001b[38;5;124m\"\u001b[39m)\n\u001b[0;32m--> 266\u001b[0m \u001b[38;5;28;43msuper\u001b[39;49m\u001b[43m(\u001b[49m\u001b[43m_RateKeeper2\u001b[49m\u001b[43m,\u001b[49m\u001b[43m \u001b[49m\u001b[38;5;28;43mself\u001b[39;49m\u001b[43m)\u001b[49m\u001b[38;5;241;43m.\u001b[39;49m\u001b[38;5;21;43m__call__\u001b[39;49m\u001b[43m(\u001b[49m\u001b[38;5;28;43mself\u001b[39;49m\u001b[38;5;241;43m.\u001b[39;49m\u001b[43mrval\u001b[49m\u001b[43m)\u001b[49m\n",
      "File \u001b[0;32m~/anaconda3/envs/ECE1180/lib/python3.10/site-packages/vpython/rate_control.py:214\u001b[0m, in \u001b[0;36mRateKeeper.__call__\u001b[0;34m(self, maxRate)\u001b[0m\n\u001b[1;32m    212\u001b[0m \u001b[38;5;28;01mif\u001b[39;00m \u001b[38;5;28mself\u001b[39m\u001b[38;5;241m.\u001b[39mwhenToRender[\u001b[38;5;28mself\u001b[39m\u001b[38;5;241m.\u001b[39mrenderIndex] \u001b[38;5;241m==\u001b[39m \u001b[38;5;28mself\u001b[39m\u001b[38;5;241m.\u001b[39mrateCount:\n\u001b[1;32m    213\u001b[0m     sleeps \u001b[38;5;241m+\u001b[39m\u001b[38;5;241m=\u001b[39m \u001b[38;5;241m1\u001b[39m\n\u001b[0;32m--> 214\u001b[0m     \u001b[43m_sleep\u001b[49m\u001b[43m(\u001b[49m\u001b[38;5;28;43mself\u001b[39;49m\u001b[38;5;241;43m.\u001b[39;49m\u001b[43minteractionPeriod\u001b[49m\u001b[43m)\u001b[49m\n\u001b[1;32m    215\u001b[0m \u001b[38;5;28;01melse\u001b[39;00m:\n\u001b[1;32m    216\u001b[0m     \u001b[38;5;28;01mbreak\u001b[39;00m\n",
      "File \u001b[0;32m~/anaconda3/envs/ECE1180/lib/python3.10/site-packages/vpython/rate_control.py:62\u001b[0m, in \u001b[0;36m_sleep\u001b[0;34m(dt)\u001b[0m\n\u001b[1;32m     60\u001b[0m dtsleep \u001b[38;5;241m=\u001b[39m nticks\u001b[38;5;241m*\u001b[39m_tick\n\u001b[1;32m     61\u001b[0m t \u001b[38;5;241m=\u001b[39m _clock()\n\u001b[0;32m---> 62\u001b[0m \u001b[43mtime\u001b[49m\u001b[38;5;241;43m.\u001b[39;49m\u001b[43msleep\u001b[49m\u001b[43m(\u001b[49m\u001b[43mdtsleep\u001b[49m\u001b[43m)\u001b[49m\n\u001b[1;32m     63\u001b[0m t \u001b[38;5;241m=\u001b[39m _clock()\u001b[38;5;241m-\u001b[39mt\n\u001b[1;32m     64\u001b[0m dt \u001b[38;5;241m-\u001b[39m\u001b[38;5;241m=\u001b[39m t\n",
      "\u001b[0;31mKeyboardInterrupt\u001b[0m: "
     ]
    }
   ],
   "source": [
    "scene = canvas(background = color.white)\n",
    "\n",
    "###################\n",
    "n = 9                   # Set nxn matrix\n",
    "start_point = n // 2    # Fire starts from the mid-bottom, so find the middle point\n",
    "###################\n",
    "\n",
    "forest_arr = [[trees(vector(i,j,0)) for j in range(n)] for i in range(n)]\n",
    "forest_arr[start_point][0].set_state('fire')\n",
    "\n",
    "# Since we do not want to iterate through the matrix to find the fire everytime, put them in fire list\n",
    "fire_list = [(start_point, 0)]\n",
    "\n",
    "time = 0\n",
    "while 1:\n",
    "    rate(1)\n",
    "    # if everything is burned down to ashes, stop\n",
    "    if (len(fire_list)) == 0:\n",
    "        break\n",
    "    idx = random.randrange(len(fire_list))       # Pick random cell's idx from watch_list's size\n",
    "    update_forest_arr_async(n, fire_list[idx])   # Give random cell to update\n",
    "    fire_list = update_fire_list()\n",
    "    time += 1\n",
    "\n",
    "print(f\"total time taken: {time} seconds\")\n",
    "\n",
    "#####################\n",
    "# DARK GREEN: tree state\n",
    "# DARK RED: burning state\n",
    "# DARK GRAY: burnt state\n",
    "#\n",
    "# Wanted to use texture w/ photos, but it has a lot of unknown errors, so decided to use built-in colors instead \n",
    "######################"
   ]
  },
  {
   "cell_type": "code",
   "execution_count": null,
   "id": "5d524ac8-2627-40cb-8c0a-75235c352906",
   "metadata": {},
   "outputs": [],
   "source": []
  }
 ],
 "metadata": {
  "kernelspec": {
   "display_name": "Python 3 (ipykernel)",
   "language": "python",
   "name": "python3"
  },
  "language_info": {
   "codemirror_mode": {
    "name": "ipython",
    "version": 3
   },
   "file_extension": ".py",
   "mimetype": "text/x-python",
   "name": "python",
   "nbconvert_exporter": "python",
   "pygments_lexer": "ipython3",
   "version": "3.10.13"
  }
 },
 "nbformat": 4,
 "nbformat_minor": 5
}
