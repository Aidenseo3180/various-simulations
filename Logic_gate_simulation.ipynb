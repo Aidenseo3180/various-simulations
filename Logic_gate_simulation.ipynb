{
 "cells": [
  {
   "cell_type": "code",
   "execution_count": 1,
   "id": "7134f091-be99-42e8-a1bf-922f769346c5",
   "metadata": {},
   "outputs": [
    {
     "data": {
      "text/html": [
       "<div id=\"glowscript\" class=\"glowscript\"></div>"
      ],
      "text/plain": [
       "<IPython.core.display.HTML object>"
      ]
     },
     "metadata": {},
     "output_type": "display_data"
    },
    {
     "data": {
      "application/javascript": [
       "if (typeof Jupyter !== \"undefined\") { window.__context = { glowscript_container: $(\"#glowscript\").removeAttr(\"id\")};}else{ element.textContent = ' ';}"
      ],
      "text/plain": [
       "<IPython.core.display.Javascript object>"
      ]
     },
     "metadata": {},
     "output_type": "display_data"
    }
   ],
   "source": [
    "from vpython import *\n",
    "from queue import PriorityQueue "
   ]
  },
  {
   "cell_type": "markdown",
   "id": "632d4304-6a36-4d28-9503-0a68c0cb6f68",
   "metadata": {},
   "source": [
    "## A. Define Logic Gates"
   ]
  },
  {
   "cell_type": "code",
   "execution_count": 2,
   "id": "74082717-0f7a-428e-891c-8ecceceb7184",
   "metadata": {},
   "outputs": [],
   "source": [
    "# Wires\n",
    "class Net:\n",
    "    def __init__(self, id, curve):\n",
    "        self.val = 0.5\n",
    "        self.id = id\n",
    "        self.trigger = False   # indicates whether net has been updated or not\n",
    "        self.curve = curve\n",
    "    \n",
    "    # Setters\n",
    "    def set_val(self, val):\n",
    "        self.val = val\n",
    "        self.trigger = True\n",
    "    \n",
    "    # Getters\n",
    "    def get_val(self):\n",
    "        return self.val\n",
    "    \n",
    "    def get_id(self):\n",
    "        return self.id\n",
    "    \n",
    "    def get_trigger(self):\n",
    "        return self.trigger\n",
    "\n",
    "    def turnoff_trigger(self):\n",
    "        self.trigger = False\n",
    "        \n",
    "    def get_curve(self):\n",
    "        return self.curve\n",
    "    \n",
    "class Gate:\n",
    "    def __init__(self, net_in1, net_in2, net_out, gate_id, delay, time, ev):\n",
    "        self._in_net1 = net_in1\n",
    "        self._in_net2 = net_in2\n",
    "        self.out_net = net_out  # output\n",
    "        \n",
    "        self._output = 0.5\n",
    "        self._id = gate_id\n",
    "        self.time = time\n",
    "        self.delay = delay\n",
    "        self.evaluate_function = ev  # function that tells the Gate what to do\n",
    "    \n",
    "    def evaluate(self):\n",
    "        self.evaluate_function(self._in_net1, self._in_net2, self.out_net)\n",
    "        \n",
    "    # Update value of 2 inputs\n",
    "    def update_in_nets(self, val_1, val_2):        \n",
    "        self._in_net1.set_val(val_1)\n",
    "        self._in_net2.set_val(val_2)\n",
    "        \n",
    "    def get_id(self):\n",
    "        return self._id\n",
    "                \n",
    "    def get_delay(self):\n",
    "        return self.delay\n",
    "                \n",
    "    def get_time(self):\n",
    "        return self.time\n",
    "    \n",
    "    def is_updated(self):\n",
    "        return self._in_net1.get_trigger() or self._in_net2.get_trigger()\n",
    "    \n",
    "    def set_time(self, time):\n",
    "        self.time = time\n",
    "    \n",
    "    # Turn off the trigger once update is applied\n",
    "    def in_net_update_applied(self):\n",
    "        self._in_net1.turnoff_trigger()\n",
    "        self._in_net2.turnoff_trigger()\n",
    "        \n",
    "    def out_net_update_applied(self):\n",
    "        self.out_net.turnoff_trigger()\n",
    "        \n",
    "    def get_in_net1(self):\n",
    "        return self._in_net1\n",
    "    \n",
    "    def get_in_net2(self):\n",
    "        return self._in_net2\n",
    "    \n",
    "    def get_out_net(self):\n",
    "        return self.out_net\n",
    "    \n",
    "    def draw_curve_before(self):\n",
    "        self._in_net1.get_curve().plot(self.time - self.delay, self._in_net1.get_val())\n",
    "        self._in_net2.get_curve().plot(self.time - self.delay, self._in_net2.get_val())\n",
    "        self.out_net.get_curve().plot(self.time, self.out_net.get_val())\n",
    "    \n",
    "    def draw_curve_after(self):\n",
    "        self._in_net1.get_curve().plot(self.time, self._in_net1.get_val())\n",
    "        self._in_net2.get_curve().plot(self.time, self._in_net2.get_val())\n",
    "        self.out_net.get_curve().plot(self.time + self.delay, self.out_net.get_val())\n",
    "        \n",
    "    def draw_curve_normal(self):\n",
    "        self._in_net1.get_curve().plot(self.time, self._in_net1.get_val())\n",
    "        self._in_net2.get_curve().plot(self.time, self._in_net2.get_val())\n",
    "        self.out_net.get_curve().plot(self.time, self.out_net.get_val())\n",
    "        \n",
    "    def draw_in_net1(self):\n",
    "        self._in_net1.get_curve().plot(self.time, self._in_net1.get_val())\n",
    "        \n",
    "    def draw_in_net2(self):\n",
    "        self._in_net2.get_curve().plot(self.time, self._in_net2.get_val())\n",
    "    \n",
    "    def draw_out_net(self):\n",
    "        self.out_net.get_curve().plot(self.time, self.out_net.get_val())\n",
    "    \n",
    "# Event of gate receiving different input values\n",
    "class Event:\n",
    "    def __init__(self, gate, time):\n",
    "        self.gate = gate\n",
    "        self.time = time\n",
    "    \n",
    "    def __lt__(self, obj):\n",
    "        \"\"\"self < obj.\"\"\"\n",
    "        return self.time < obj.get_time()\n",
    "\n",
    "    def __le__(self, obj):\n",
    "        \"\"\"self <= obj.\"\"\"\n",
    "        return self.time <= obj.get_time()\n",
    "\n",
    "    def __eq__(self, obj):\n",
    "        \"\"\"self == obj.\"\"\"\n",
    "        return self.time == obj.get_time()\n",
    "\n",
    "    def __ne__(self, obj):\n",
    "        \"\"\"self != obj.\"\"\"\n",
    "        return self.time != obj.get_time()\n",
    "\n",
    "    def __gt__(self, obj):\n",
    "        \"\"\"self > obj.\"\"\"\n",
    "        return self.time > obj.get_time()\n",
    "\n",
    "    def __ge__(self, obj):\n",
    "        \"\"\"self >= obj.\"\"\"\n",
    "        return self.time >= obj.get_time()\n",
    "    \n",
    "    def get_gate(self):\n",
    "        return self.gate\n",
    "    \n",
    "    def get_time(self):\n",
    "        return self.time\n",
    "    \n",
    "def evaluate_NAND(in1, in2, out):\n",
    "    out.set_val(int(not(in1.get_val() and in2.get_val()) == True))  # Convert bool to int\n",
    "\n",
    "def evaluate_NOR(in1, in2, out):\n",
    "    out.set_val(int(not(in1.get_val() or in2.get_val()) == True))\n",
    "    \n",
    "def evaluate_NOT(in1, in2, out):\n",
    "    out.set_val(int(not in1.get_val()))\n"
   ]
  },
  {
   "cell_type": "markdown",
   "id": "b37db79c-6bce-464a-b506-cd3c8c6a6b3a",
   "metadata": {},
   "source": [
    "## B. Confirm Logic Gates by Testing  /  C. Hold Events in Sequence using Priority Queue"
   ]
  },
  {
   "cell_type": "markdown",
   "id": "15db3dcd-75e2-4456-bf85-b08b42b0be6d",
   "metadata": {},
   "source": [
    "I just decided to implement part B using part C's Event class. Event class can be found from above.  \n",
    "**Note:** I don't know why, but graphs only get displayed below the top-most cell, so be aware of that."
   ]
  },
  {
   "cell_type": "markdown",
   "id": "a9413d9e-2f3a-46a8-af1e-342fa0e28928",
   "metadata": {},
   "source": [
    "#### Visual Representation using gcurve"
   ]
  },
  {
   "cell_type": "code",
   "execution_count": 3,
   "id": "b95ef5c8-3b8a-41b9-9056-43b9fe463ae8",
   "metadata": {},
   "outputs": [],
   "source": [
    "def simulation_single_gate(gate_type):\n",
    "\n",
    "    t = 0\n",
    "    delay = 0.05\n",
    "    \n",
    "    # Tasks that we want to use to test our gate\n",
    "    # Repeat 0,0 0,1 1,0 1,1 cycle twice\n",
    "    task = [(0,0), (0,1), (1,0), (1,1), (0,0), (0,1), (1,0), (1,1)]\n",
    "    \n",
    "    # Graphs\n",
    "    g1 = graph(title='Curve of net A for {}'.format(gate_type), xtitle='time', ytitle='bit', xmin=0, ymin=0)\n",
    "    g2 = graph(title='Curve of net B for {}'.format(gate_type), xtitle='time', ytitle='bit', xmin=0, ymin=0)\n",
    "    g3 = graph(title='Curve of net Q for {}'.format(gate_type), xtitle='time', ytitle='bit', xmin=0, ymin=0)\n",
    "    \n",
    "    # Curves w/ associated graphs\n",
    "    curve1 = gcurve(color=color.black, graph=g1)\n",
    "    curve2 = gcurve(color=color.blue, graph=g2)\n",
    "    curve3 = gcurve(color=color.red, graph=g3)\n",
    "    \n",
    "    fn = None\n",
    "    if gate_type == \"NAND\":\n",
    "        fn = evaluate_NAND\n",
    "    elif gate_type == \"NOR\":\n",
    "        fn = evaluate_NOR\n",
    "    \n",
    "    net_in1 = Net(1, curve1)\n",
    "    net_in2 = Net(2, curve2)\n",
    "    net_out = Net(3, curve3)\n",
    "    q = PriorityQueue()\n",
    "    q.put(Event(Gate(net_in1, net_in2, net_out, 1, delay, t, fn), t))  # Given delay: 0.05\n",
    "    \n",
    "    while not q.empty():\n",
    "        val_1 = task[0][0]\n",
    "        val_2 = task[0][1]\n",
    "        task.pop(0)\n",
    "        \n",
    "        event = q.get()\n",
    "        gate = event.get_gate()\n",
    "        \n",
    "        # Update time -> draw curve before -> update actual net values -> draw curve after\n",
    "        gate.set_time(t)\n",
    "        gate.draw_curve_before()\n",
    "        gate.update_in_nets(val_1, val_2)\n",
    "        gate.evaluate()\n",
    "        gate.draw_curve_after()\n",
    "        \n",
    "        # Update Time\n",
    "        t += 1\n",
    "        \n",
    "        # Check if we still have test tasks. If we do, add event\n",
    "        # If any of in-nets are updated, then add event\n",
    "        if len(task):\n",
    "            q.put(Event(gate, t))\n",
    "        "
   ]
  },
  {
   "cell_type": "code",
   "execution_count": 4,
   "id": "158f58da-af70-469e-95bf-3b4313325339",
   "metadata": {},
   "outputs": [
    {
     "data": {
      "application/javascript": [
       "if (typeof Jupyter !== \"undefined\") {require.undef(\"nbextensions/vpython_libraries/glow.min\");}else{element.textContent = ' ';}"
      ],
      "text/plain": [
       "<IPython.core.display.Javascript object>"
      ]
     },
     "metadata": {},
     "output_type": "display_data"
    },
    {
     "data": {
      "application/javascript": [
       "if (typeof Jupyter !== \"undefined\") {require.undef(\"nbextensions/vpython_libraries/glowcomm\");}else{element.textContent = ' ';}"
      ],
      "text/plain": [
       "<IPython.core.display.Javascript object>"
      ]
     },
     "metadata": {},
     "output_type": "display_data"
    },
    {
     "data": {
      "application/javascript": [
       "if (typeof Jupyter !== \"undefined\") {require.undef(\"nbextensions/vpython_libraries/jquery-ui.custom.min\");}else{element.textContent = ' ';}"
      ],
      "text/plain": [
       "<IPython.core.display.Javascript object>"
      ]
     },
     "metadata": {},
     "output_type": "display_data"
    },
    {
     "data": {
      "application/javascript": [
       "if (typeof Jupyter !== \"undefined\") {require([\"nbextensions/vpython_libraries/glow.min\"], function(){console.log(\"GLOW LOADED\");});}else{element.textContent = ' ';}"
      ],
      "text/plain": [
       "<IPython.core.display.Javascript object>"
      ]
     },
     "metadata": {},
     "output_type": "display_data"
    },
    {
     "data": {
      "application/javascript": [
       "if (typeof Jupyter !== \"undefined\") {require([\"nbextensions/vpython_libraries/glowcomm\"], function(){console.log(\"GLOWCOMM LOADED\");});}else{element.textContent = ' ';}"
      ],
      "text/plain": [
       "<IPython.core.display.Javascript object>"
      ]
     },
     "metadata": {},
     "output_type": "display_data"
    },
    {
     "data": {
      "application/javascript": [
       "if (typeof Jupyter !== \"undefined\") {require([\"nbextensions/vpython_libraries/jquery-ui.custom.min\"], function(){console.log(\"JQUERY LOADED\");});}else{element.textContent = ' ';}"
      ],
      "text/plain": [
       "<IPython.core.display.Javascript object>"
      ]
     },
     "metadata": {},
     "output_type": "display_data"
    }
   ],
   "source": [
    "simulation_single_gate(\"NAND\")\n",
    "simulation_single_gate(\"NOR\")"
   ]
  },
  {
   "cell_type": "markdown",
   "id": "5a9ca159-97a9-4dca-b218-e4e2949bf1a4",
   "metadata": {},
   "source": [
    "**Analysis:**  \n",
    "I verified the result by checking the input & output graphs of each gate. By using online truth tables for each gate type, I was able to confirm that the simulation is working as intended."
   ]
  },
  {
   "cell_type": "markdown",
   "id": "97dd13cd-e494-44b4-b8df-046ac747352d",
   "metadata": {},
   "source": [
    "## D. Simple Combinational Network of gates"
   ]
  },
  {
   "cell_type": "code",
   "execution_count": 5,
   "id": "470e2f05-bba2-4aae-8069-74bb6c72259f",
   "metadata": {},
   "outputs": [],
   "source": [
    "def simulation_comb_network(gate_type):\n",
    "    \n",
    "    t = 0\n",
    "    delay = 0.05\n",
    "    \n",
    "    # *********\n",
    "    # * Tasks *\n",
    "    # *********\n",
    "    # Repeat 0,0 0,1 1,0 1,1 cycle twice\n",
    "    task1 = [(0,0), (0,1), (1,0), (1,1), (0,0), (0,1), (1,0), (1,1)]\n",
    "    task2 = [0, 0, 0, 0, 1, 1, 1, 1]\n",
    "    \n",
    "    # **********\n",
    "    # * Graphs *\n",
    "    # **********\n",
    "    # 1st Gate\n",
    "    g1 = graph(title='Curve of input net 1 of 1st Gate for {}'.format(gate_type), xtitle='time', ytitle='bit', xmin=0, ymin=0)\n",
    "    g2 = graph(title='Curve of input net 2 of 1st Gate for {}'.format(gate_type), xtitle='time', ytitle='bit', xmin=0, ymin=0)\n",
    "    g4 = graph(title='Curve of output net of 1st Gate for {}'.format(gate_type), xtitle='time', ytitle='bit', xmin=0, ymin=0)\n",
    "    \n",
    "    # 2nd Gate\n",
    "    g3 = graph(title='Curve of two input nets of 2nd Gate for {}'.format(gate_type), xtitle='time', ytitle='bit', xmin=0, ymin=0)\n",
    "    g5 = graph(title='Curve of output net of 2nd Gate for {}'.format(gate_type), xtitle='time', ytitle='bit', xmin=0, ymin=0)\n",
    "\n",
    "    # 3rd Gate\n",
    "    g6 = graph(title='Curve of output of 3rd Gate for {}'.format(gate_type), xtitle='time', ytitle='bit', xmin=0, ymin=0)\n",
    "\n",
    "    # *********************************\n",
    "    # ** Curves w/ associated graphs **\n",
    "    # *********************************\n",
    "    curve1 = gcurve(color=color.black, graph=g1)\n",
    "    curve2 = gcurve(color=color.blue, graph=g2)\n",
    "    curve4 = gcurve(color=color.red, graph=g4)\n",
    "    \n",
    "    curve3 = gcurve(color=color.orange, graph=g3)\n",
    "    curve5 = gcurve(color=color.cyan, graph=g5)\n",
    "    \n",
    "    curve6 = gcurve(color=color.green, graph=g6)   \n",
    "    \n",
    "    fn = None\n",
    "    if gate_type == \"NAND\":\n",
    "        fn = evaluate_NAND\n",
    "    elif gate_type == \"NOR\":\n",
    "        fn = evaluate_NOR\n",
    "    \n",
    "    # *********************\n",
    "    # * Network hardcoded *\n",
    "    # *********************\n",
    "    \n",
    "    # Curve attached to net for ease of graphing\n",
    "    net_in1 = Net(1, curve1)\n",
    "    net_in2 = Net(2, curve2)\n",
    "    net_in3 = Net(3, curve3)\n",
    "    net_out4 = Net(4, curve4)\n",
    "    net_out5 = Net(5, curve5)\n",
    "    net_out6 = Net(6, curve6)\n",
    "    \n",
    "    gate1 = Gate(net_in1, net_in2, net_out4, 1, delay, t, fn)  # Given delay: 0.05\n",
    "    gate2 = Gate(net_in3, net_in3, net_out5, 2, delay, t, fn)\n",
    "    gate3 = Gate(net_out4, net_out5, net_out6, 3, delay, t, fn)\n",
    "    \n",
    "    # Draw the beginning part before the loop runs to make the visual better\n",
    "    gate1.draw_curve_normal()\n",
    "    gate2.draw_curve_normal()\n",
    "    gate3.draw_curve_normal()\n",
    "    \n",
    "    q = PriorityQueue()\n",
    "    q.put(Event(gate1, t))   \n",
    "    q.put(Event(gate2, t))   \n",
    "    q.put(Event(gate3, t))      \n",
    "    \n",
    "    # *******\n",
    "    # * Run *\n",
    "    # *******\n",
    "    while not q.empty():\n",
    "\n",
    "        # Grab the event from Priority queue\n",
    "        event = q.get()\n",
    "        gate = event.get_gate()\n",
    "        \n",
    "        # Process: update time -> draw curve before -> update actual net values -> draw curve after\n",
    "        \n",
    "        # Update time\n",
    "        gate.set_time(gate.get_time() + 1)  # Update each gate's unique time\n",
    "            \n",
    "        # Draw curve before values get updated\n",
    "        gate.draw_curve_before()\n",
    "            \n",
    "        # Depends on the gate's id, update values accordingly\n",
    "        if gate.get_id() == 1:\n",
    "            val_1 = task1[0][0]\n",
    "            val_2 = task1[0][1]\n",
    "            task1.pop(0)\n",
    "            gate.update_in_nets(val_1, val_2)\n",
    "                        \n",
    "        elif gate.get_id() == 2:\n",
    "            val_1 = task2[0]\n",
    "            task2.pop(0)\n",
    "            gate.update_in_nets(val_1, val_1)\n",
    "                           \n",
    "        # Update gate's nets using the newly added values\n",
    "        gate.evaluate()\n",
    "        \n",
    "        # Draw the curve again to have square wave\n",
    "        gate.draw_curve_after()\n",
    "        \n",
    "        # Handle gate to determine whether the gate should get into the Priority Queue\n",
    "        # For gate id=1 & 2\n",
    "        if (gate.get_id() == 1 and len(task1)) or (gate.get_id() == 2 and len(task2)):\n",
    "            gate.in_net_update_applied()\n",
    "            q.put(Event(gate, gate.get_time()))\n",
    "            \n",
    "        # Handle gate id=3\n",
    "        if gate.get_id() == 3 and (len(task1) or len(task2)):\n",
    "            gate.in_net_update_applied()\n",
    "            q.put(Event(gate, gate.get_time()))\n",
    "        "
   ]
  },
  {
   "cell_type": "code",
   "execution_count": 6,
   "id": "565516c4-7395-4963-9fc8-599691b3eb15",
   "metadata": {},
   "outputs": [],
   "source": [
    "simulation_comb_network(\"NAND\")\n",
    "simulation_comb_network(\"NOR\")"
   ]
  },
  {
   "cell_type": "markdown",
   "id": "a6f0ad3f-0b6c-4646-8c3c-3fcd213f9355",
   "metadata": {},
   "source": [
    "**How I verified:**  \n",
    "As instructed, I displayed the values of all the nets.  \n",
    "\n",
    "I've verified the result by making a truth table of the entire network and keeping a track of how each bit is supposed to change over time. In the end, I was able to confirm that the graphs that above simulations have created are accurate."
   ]
  },
  {
   "cell_type": "markdown",
   "id": "918d81aa-8e22-4c1c-9ddf-94b44f98fc10",
   "metadata": {},
   "source": [
    "## E. Simulation of NAND gate D-Latch"
   ]
  },
  {
   "cell_type": "code",
   "execution_count": 7,
   "id": "f75b307a-dbff-4ad1-aa8c-51e77b464777",
   "metadata": {},
   "outputs": [],
   "source": [
    "def draw_before_update_D_Latch(gate):\n",
    "    if gate.get_id() == 1:\n",
    "        gate.get_in_net1().get_curve().plot(gate.get_time() - gate.get_delay(), gate.get_in_net1().get_val())\n",
    "        gate.get_in_net2().get_curve().plot(gate.get_time() - gate.get_delay(),  gate.get_in_net2().get_val())\n",
    "    elif gate.get_id() == 4:\n",
    "        gate.get_out_net().get_curve().plot(gate.get_time(), gate.get_out_net().get_val())\n",
    "    elif gate.get_id() == 5:\n",
    "        gate.get_out_net().get_curve().plot(gate.get_time(), gate.get_out_net().get_val())\n",
    "    \n",
    "def draw_after_update_D_Latch(gate):\n",
    "    if gate.get_id() == 1:\n",
    "        gate.get_in_net1().get_curve().plot(gate.get_time(), gate.get_in_net1().get_val())\n",
    "        gate.get_in_net2().get_curve().plot(gate.get_time(),  gate.get_in_net2().get_val())\n",
    "    elif gate.get_id() == 4:\n",
    "        gate.get_out_net().get_curve().plot(gate.get_time() + gate.get_delay(), gate.get_out_net().get_val())\n",
    "    elif gate.get_id() == 5:\n",
    "        gate.get_out_net().get_curve().plot(gate.get_time() + gate.get_delay(), gate.get_out_net().get_val())\n",
    "\n",
    "def simulation_d_latch():\n",
    "    \n",
    "    t = 0\n",
    "    delay = 0.05\n",
    "    \n",
    "    # *********\n",
    "    # * Tasks *\n",
    "    # *********\n",
    "    # Repeat 0,0 0,1 1,0 1,1 cycle twice\n",
    "    task1 = [0, 0, 0, 0, 1, 1, 1, 1]  # D\n",
    "    task2 = [0, 1, 0, 1, 0, 1, 0, 1]   # CLK\n",
    "    \n",
    "    # **********\n",
    "    # * Graphs *\n",
    "    # **********\n",
    "    # 1st Gate\n",
    "    g1 = graph(title='D input of D-Latch', xtitle='time', ytitle='bit', xmin=0, ymin=0)\n",
    "    g2 = graph(title='CLK of D-Latch', xtitle='time', ytitle='bit', xmin=0, ymin=0)\n",
    "    g3 = graph(title='Q of D-Latch', xtitle='time', ytitle='bit', xmin=0, ymin=0)\n",
    "    g4 = graph(title=\"Q' of D-Latch\", xtitle='time', ytitle='bit', xmin=0, ymin=0)\n",
    "\n",
    "    # *********************************\n",
    "    # ** Curves w/ associated graphs **\n",
    "    # *********************************\n",
    "    curve1 = gcurve(color=color.black, graph=g1)  # D\n",
    "    curve2 = gcurve(color=color.magenta, graph=g2)   # CLK\n",
    "    curve3 = gcurve(color=color.orange, graph=g3)    # Q\n",
    "    curve4 = gcurve(color=color.purple, graph=g4)  # Q'\n",
    "    \n",
    "    # *********************\n",
    "    # * Network hardcoded *\n",
    "    # *********************\n",
    "    \n",
    "    # Curve attached to net for ease of graphing\n",
    "    net_D = Net(1, curve1)\n",
    "    net_CLK = Net(2, curve2)\n",
    "    net_out_NAND1 = Net(4, None)\n",
    "    \n",
    "    net_inverted = Net(3, None)\n",
    "    net_out_NAND2 = Net(5, None)\n",
    "    \n",
    "    net_Q = Net(6, curve3)\n",
    "    net_Q_inv = Net(7, curve4)\n",
    "    \n",
    "    # Set Q to be 1 by default for ease of debugging\n",
    "    net_Q.set_val(1)\n",
    "    \n",
    "    # Gates\n",
    "    # Given delay: 0.05\n",
    "    gate1 = Gate(net_D, net_CLK, net_out_NAND1, 1, delay, t, evaluate_NAND)   # 1st NAND\n",
    "    gate2 = Gate(net_D, Net(0, None), net_inverted, 2, 0, t, evaluate_NOT)   # NOT\n",
    "    gate3 = Gate(net_CLK, net_inverted, net_out_NAND2, 3, delay, t, evaluate_NAND) # 2nd NAND\n",
    "    gate4 = Gate(net_out_NAND1, net_Q_inv, net_Q, 4, delay*2, t, evaluate_NAND) # 3rd NAND\n",
    "    gate5 = Gate(net_out_NAND2, net_Q, net_Q_inv, 5, delay*2, t, evaluate_NAND) # 4th NAND\n",
    "    \n",
    "    # Draw the beginning part before the loop runs to make the visual better\n",
    "    gate1.draw_in_net1()\n",
    "    gate1.draw_in_net2()\n",
    "    gate4.draw_out_net()\n",
    "    gate5.draw_out_net()\n",
    "    \n",
    "    q = PriorityQueue()\n",
    "    q.put(Event(gate1, t))   \n",
    "    q.put(Event(gate2, t))   \n",
    "    q.put(Event(gate3, t))      \n",
    "    q.put(Event(gate4, t))   \n",
    "    q.put(Event(gate5, t))   \n",
    "    \n",
    "    # *******\n",
    "    # * Run *\n",
    "    # *******\n",
    "    while not q.empty():\n",
    "\n",
    "        # Grab the event from Priority queue\n",
    "        event = q.get()\n",
    "        gate = event.get_gate()\n",
    "        \n",
    "        # Process: update time -> draw curve before -> update actual net values -> draw curve after\n",
    "        \n",
    "        # Update time\n",
    "        gate.set_time(gate.get_time() + 1)  # Update each gate's unique time\n",
    "            \n",
    "        # Draw curve before values get updated\n",
    "        draw_before_update_D_Latch(gate)\n",
    "            \n",
    "        # Depends on the gate's id, update values accordingly\n",
    "        if gate.get_id() == 1:\n",
    "            # Since I do not want it to run forever, have a way to stop it (in this case, when all the D input tasks are given)\n",
    "            if len(task1) == 0: break\n",
    "            gate.draw_in_net1()\n",
    "            gate.draw_in_net2()\n",
    "            val_1 = task1[0]\n",
    "            val_2 = task2[0]\n",
    "            gate.update_in_nets(val_1, val_2)            \n",
    "                        \n",
    "        elif gate.get_id() == 3:\n",
    "            val_1 = task2[0]\n",
    "            task1.pop(0)\n",
    "            task2.pop(0)\n",
    "            gate.update_in_nets(val_1, val_1)\n",
    "                           \n",
    "        # Update gate's nets using the newly added values\n",
    "        gate.evaluate()\n",
    "        \n",
    "        # Draw the curve again to have square wave\n",
    "        draw_after_update_D_Latch(gate)\n",
    "        \n",
    "        if (gate.is_updated()):\n",
    "            q.put(Event(gate, gate.get_time()))\n",
    "            gate.in_net_update_applied()\n",
    "        "
   ]
  },
  {
   "cell_type": "code",
   "execution_count": 8,
   "id": "0551e337-a761-4f87-85fd-3c931e1b9ed9",
   "metadata": {},
   "outputs": [],
   "source": [
    "simulation_d_latch()"
   ]
  },
  {
   "cell_type": "markdown",
   "id": "a530efb0-a14d-4684-83a6-ab0eaed59719",
   "metadata": {},
   "source": [
    "## F. Comment on Experience / Results"
   ]
  },
  {
   "cell_type": "markdown",
   "id": "6fb6ce72-cd41-4f57-9b43-d65d37a2d148",
   "metadata": {},
   "source": [
    "**Analysis:**  \n",
    "Since there are too many nets, I decided to only display D, CLK, Q, and Q'   \n",
    "  \n",
    "In the simulation, I successfully created a D-Latch and displayed the D and CLK(EN) inputs, as well as the Q and Q' outputs, in the form of a graph. Regarding verification, I confirmed the results using an online website that allows users to build circuits and monitor changes in bits as they progress.   \n",
    "  \n",
    "In terms of creating combinational versus sequential circuits, there was a significant difference. The design of the combinational circuit was straightforward since its input does not depend on the output. However, for the sequential circuit, I had to consider this dependency and create a net shared by both the input and output. This ensured that whenever the output changed, the value of the net also changed, providing feedback to the network as an input.   \n",
    "  \n",
    "In terms of simulating and verifying the legitimacy of the simulation, I found testing the sequential circuit much more challenging than the combinational one. With multiple inputs and outputs changing simultaneously, it was difficult to keep track of them all. However, in the end, I was able to verify both the combinational and sequential simulations."
   ]
  },
  {
   "cell_type": "code",
   "execution_count": null,
   "id": "dc67443b-6d27-4e1c-a357-bd0ea033a786",
   "metadata": {},
   "outputs": [],
   "source": []
  }
 ],
 "metadata": {
  "kernelspec": {
   "display_name": "Python 3 (ipykernel)",
   "language": "python",
   "name": "python3"
  },
  "language_info": {
   "codemirror_mode": {
    "name": "ipython",
    "version": 3
   },
   "file_extension": ".py",
   "mimetype": "text/x-python",
   "name": "python",
   "nbconvert_exporter": "python",
   "pygments_lexer": "ipython3",
   "version": "3.10.13"
  }
 },
 "nbformat": 4,
 "nbformat_minor": 5
}
