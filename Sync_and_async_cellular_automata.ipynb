{
 "cells": [
  {
   "cell_type": "code",
   "execution_count": 1,
   "id": "7da8fa19-eb04-4b1d-8d5e-69d48d6aabed",
   "metadata": {},
   "outputs": [
    {
     "data": {
      "text/html": [
       "<div id=\"glowscript\" class=\"glowscript\"></div>"
      ],
      "text/plain": [
       "<IPython.core.display.HTML object>"
      ]
     },
     "metadata": {},
     "output_type": "display_data"
    },
    {
     "data": {
      "application/javascript": [
       "if (typeof Jupyter !== \"undefined\") { window.__context = { glowscript_container: $(\"#glowscript\").removeAttr(\"id\")};}else{ element.textContent = ' ';}"
      ],
      "text/plain": [
       "<IPython.core.display.Javascript object>"
      ]
     },
     "metadata": {},
     "output_type": "display_data"
    }
   ],
   "source": [
    "from vpython import *\n",
    "import random\n",
    "import numpy as np\n",
    "from matplotlib import pyplot as plt "
   ]
  },
  {
   "cell_type": "markdown",
   "id": "e2ccff2d-c306-43ab-900f-bdb6f7ac0f74",
   "metadata": {},
   "source": [
    "## A. Two-Dimentional Random Walker"
   ]
  },
  {
   "cell_type": "markdown",
   "id": "3c9363f0-b97d-4211-ba03-e10dc6077919",
   "metadata": {},
   "source": [
    "#### Confirm Uniformity of Random Number Generation"
   ]
  },
  {
   "cell_type": "code",
   "execution_count": 3,
   "id": "e4662b25-e35e-4162-b2a0-7428a6c6cd0c",
   "metadata": {},
   "outputs": [
    {
     "data": {
      "image/png": "[encoded data removed]",
      "text/plain": [
       "<Figure size 300x500 with 1 Axes>"
      ]
     },
     "metadata": {},
     "output_type": "display_data"
    }
   ],
   "source": [
    "random_list = []\n",
    "\n",
    "while(len(random_list) < 50):\n",
    "    random_list.append(random.randrange(6))  # 0 ~ 5\n",
    "    \n",
    "fig = plt.figure(figsize =(3, 5))\n",
    "plt.hist(random_list, bins=[0, 1, 2, 3, 4, 5])\n",
    "plt.title(\"Histogram of Random Number Generator\")\n",
    "plt.show()"
   ]
  },
  {
   "cell_type": "markdown",
   "id": "67d11e55-04ee-4b24-af7f-9243bbcc6364",
   "metadata": {},
   "source": [
    "Since the random function is psuedo-random, you can observe that the occurence of the random number is not actually random and biased. But it can still be used for our purpose of generating random numbers."
   ]
  },
  {
   "cell_type": "markdown",
   "id": "83fdd760-30de-4ce6-b1c1-add8a673d7b3",
   "metadata": {},
   "source": [
    "#### Simulation"
   ]
  },
  {
   "cell_type": "code",
   "execution_count": 26,
   "id": "b448e04d-5a4c-4f5e-bac9-582eb20afccf",
   "metadata": {},
   "outputs": [
    {
     "data": {
      "text/html": [
       "<div id=\"glowscript\" class=\"glowscript\"></div>"
      ],
      "text/plain": [
       "<IPython.core.display.HTML object>"
      ]
     },
     "metadata": {},
     "output_type": "display_data"
    },
    {
     "data": {
      "application/javascript": [
       "if (typeof Jupyter !== \"undefined\") { window.__context = { glowscript_container: $(\"#glowscript\").removeAttr(\"id\")};}else{ element.textContent = ' ';}"
      ],
      "text/plain": [
       "<IPython.core.display.Javascript object>"
      ]
     },
     "metadata": {},
     "output_type": "display_data"
    },
    {
     "name": "stdout",
     "output_type": "stream",
     "text": [
      "*************************\n",
      "Average Expected: Sqrt(500) = 22.360679774997898\n",
      "Average Endpoint Radius: 16.919625439924282\n"
     ]
    }
   ],
   "source": [
    "scene = canvas(background=color.white)\n",
    "\n",
    "##############\n",
    "step_limit = 500\n",
    "##############\n",
    "num_turns = 0\n",
    "\n",
    "# Directions\n",
    "direction_x = [1, 0, -1, 0]\n",
    "direction_y = [0, 1, 0, -1]\n",
    "\n",
    "endpoint_sum = 0\n",
    "\n",
    "# To Find the average, run the entire thing 5 times\n",
    "while(num_turns < 5):\n",
    "    # Starts at (0,0,0)\n",
    "    prev_position = vec(0,0,0)\n",
    "    num_steps = 0\n",
    "    \n",
    "    while(num_steps <= step_limit):\n",
    "        rate(100)\n",
    "        idx = random.randrange(4) # 0 ~ 3\n",
    "\n",
    "        # Display cylinder object (Only for the 1st run)\n",
    "        if (num_turns == 0):\n",
    "            cylinder(pos=prev_position, axis=vec(direction_x[idx], direction_y[idx], 0), size=vec(1 ,0.3 ,1), color=color.black)\n",
    "\n",
    "        # Update position of next cylinder\n",
    "        prev_position.x = prev_position.x + direction_x[idx]\n",
    "        prev_position.y = prev_position.y + direction_y[idx] \n",
    "\n",
    "        num_steps += 1\n",
    "\n",
    "    # Find the endpoint radius\n",
    "    endpoint_sum = endpoint_sum + sqrt(pow(prev_position.x, 2) + pow(prev_position.y, 2))\n",
    "    num_turns += 1\n",
    "    \n",
    "print(\"*************************\")\n",
    "print(\"Average Expected: Sqrt({}) = {}\".format(step_limit, sqrt(step_limit)))\n",
    "print(\"Average Endpoint Radius: {}\".format(endpoint_sum / 5.0))"
   ]
  },
  {
   "cell_type": "markdown",
   "id": "8a5a24a9-3207-43bf-8642-efbf5baf336a",
   "metadata": {
    "tags": []
   },
   "source": [
    "**Comparison:**  \n",
    "As shown above, the actual average endpoint is far less than the average expected."
   ]
  },
  {
   "cell_type": "markdown",
   "id": "abc78d14-4679-4986-9b6f-15c4833a691a",
   "metadata": {},
   "source": [
    "## B. 1-D Cellular Automation Simulation"
   ]
  },
  {
   "cell_type": "markdown",
   "id": "3e52871c-e4b5-4cbe-a8b8-e3922005657f",
   "metadata": {},
   "source": [
    "**Chosen Rule:** Rule 126  \n",
    "I chose this rule because it looks like the triforce symbol from The Legend of Zelda series.  \n",
    "  \n",
    "**Stopping Condition:**  \n",
    "When it's at row_cnt is 0, it stops  \n",
    "  \n",
    "NOTE: I don't know why, but after running part A, the rest of the simulation's rate(2) gets messed up somehow. If you run the rest off the simulations multiple times, this eventually goes away and everything runs as expected (You can also just reset and run the rest of the simulation without running part A)."
   ]
  },
  {
   "cell_type": "code",
   "execution_count": 36,
   "id": "5e1ec9d7-c516-45e9-8e57-4cd9bde62729",
   "metadata": {},
   "outputs": [
    {
     "data": {
      "text/html": [
       "<div id=\"glowscript\" class=\"glowscript\"></div>"
      ],
      "text/plain": [
       "<IPython.core.display.HTML object>"
      ]
     },
     "metadata": {},
     "output_type": "display_data"
    },
    {
     "data": {
      "application/javascript": [
       "if (typeof Jupyter !== \"undefined\") { window.__context = { glowscript_container: $(\"#glowscript\").removeAttr(\"id\")};}else{ element.textContent = ' ';}"
      ],
      "text/plain": [
       "<IPython.core.display.Javascript object>"
      ]
     },
     "metadata": {},
     "output_type": "display_data"
    }
   ],
   "source": [
    "scene1 = canvas(background=color.white)\n",
    "\n",
    "#############\n",
    "# 31 col, 16 rows\n",
    "col = 31\n",
    "row_cnt = 14   # 16 rows in total (0 - 15), since starting row is predefined, start at idx 14\n",
    "#############\n",
    "\n",
    "# array that contains row's cell information. This is used throughout the simulation\n",
    "check_arr = np.zeros(31)   # 0 = white, 1 = black cell\n",
    "check_arr[15] = 1          # middle cell = black\n",
    "\n",
    "# Find pattern of next block using given prev. left, mid, and right cells\n",
    "def find_next_pattern(left, mid, right):\n",
    "    # NOTE: Rule 126\n",
    "    if (left and mid and right) or (left == 0 and mid == 0 and right == 0):\n",
    "        return 0\n",
    "    else:\n",
    "        return 1\n",
    "\n",
    "# Update check_arr to be the next row's state\n",
    "def update_check_list():\n",
    "    arr = np.zeros(31)\n",
    "    for i in range(31):\n",
    "        left = check_arr[i - 1] if i != 0 else 0\n",
    "        mid = check_arr[i]\n",
    "        right = check_arr[i + 1] if i != 30 else 0\n",
    "        arr[i] = find_next_pattern(left, mid, right)\n",
    "    return arr\n",
    "\n",
    "def display_cells():\n",
    "    position = vec(0, row_cnt, 0)     # Starting Position\n",
    "    for cell in check_arr:\n",
    "        if cell == 0:\n",
    "            box(pos=position, color=color.white)\n",
    "        else:\n",
    "            box(pos=position, color=color.black)\n",
    "        position = position + vec(1, 0, 0)  # Add 1 to x-axis and update position\n",
    "\n",
    "while(row_cnt >= 0):\n",
    "    rate(1)\n",
    "    check_arr = update_check_list()   # First, update the next row's state, save to check_arr\n",
    "    display_cells()                   # Display cells using next state's check_arrs\n",
    "    row_cnt -= 1\n"
   ]
  },
  {
   "cell_type": "markdown",
   "id": "28df35aa-e2e8-41f7-8338-b7a686a9c3a6",
   "metadata": {},
   "source": [
    "## C. Conway's Game of Life Simulation"
   ]
  },
  {
   "cell_type": "code",
   "execution_count": 5,
   "id": "ed52bbfe-b81c-4594-aae0-33a4ce8c3c7f",
   "metadata": {},
   "outputs": [],
   "source": [
    "'''\n",
    " 6 7 8\n",
    " 5 c 1\n",
    " 4 3 2\n",
    "'''\n",
    "dir_x = [1, 1, 0, -1, -1, -1, 0, 1]\n",
    "dir_y = [0, 1, 1, 1, 0, -1, -1, -1]\n",
    "\n",
    "# Update the next state of cell array (assume n x n array)\n",
    "def update_cell_arr(n):\n",
    "    # temporary array\n",
    "    arr = np.zeros((n, n))\n",
    "    for i in range(n):\n",
    "        for j in range(n):\n",
    "            cnt = 0\n",
    "            state = cell_arr[i][j]\n",
    "            \n",
    "            for k in range(8):\n",
    "                # check out-of-bound case\n",
    "                nx = i + dir_x[k]\n",
    "                ny = j + dir_y[k]\n",
    "                if nx < 0 or ny < 0 or nx >= n or ny >= n:\n",
    "                    continue\n",
    "                if cell_arr[nx][ny] == 1:\n",
    "                    cnt += 1\n",
    "                    \n",
    "            # if current cell is alive\n",
    "            if state == 1 and (cnt == 2 or cnt == 3):\n",
    "                arr[i][j] = 1\n",
    "            # if current cell is dead\n",
    "            elif state == 0 and cnt == 3:\n",
    "                arr[i][j] = 1\n",
    "            else:\n",
    "                arr[i][j] = 0\n",
    "                \n",
    "    return arr\n",
    "                \n",
    "def draw_cell(n):\n",
    "    position = vec(0, 0, 0)\n",
    "    for i in range(n):\n",
    "        for j in range(n):\n",
    "            if cell_arr[i][j] == 1:\n",
    "                box(pos=position, color=color.black)\n",
    "            else:\n",
    "                box(pos=position, color=color.white)\n",
    "            position = vec(i, j, 0)\n"
   ]
  },
  {
   "cell_type": "markdown",
   "id": "cc54eafe-4167-4aa5-ac7e-efc33ed0af9e",
   "metadata": {},
   "source": [
    "### Testing A Simple Demo"
   ]
  },
  {
   "cell_type": "code",
   "execution_count": 35,
   "id": "715c4d49-ac8a-467c-9072-0650cd703ef6",
   "metadata": {},
   "outputs": [
    {
     "data": {
      "text/html": [
       "<div id=\"glowscript\" class=\"glowscript\"></div>"
      ],
      "text/plain": [
       "<IPython.core.display.HTML object>"
      ]
     },
     "metadata": {},
     "output_type": "display_data"
    },
    {
     "data": {
      "application/javascript": [
       "if (typeof Jupyter !== \"undefined\") { window.__context = { glowscript_container: $(\"#glowscript\").removeAttr(\"id\")};}else{ element.textContent = ' ';}"
      ],
      "text/plain": [
       "<IPython.core.display.Javascript object>"
      ]
     },
     "metadata": {},
     "output_type": "display_data"
    }
   ],
   "source": [
    "scene2 = canvas(background = color.white)\n",
    "\n",
    "##############\n",
    "n = 11\n",
    "##############\n",
    "\n",
    "iteration = 0\n",
    "cell_arr = np.zeros((n, n))\n",
    "\n",
    "# initial state\n",
    "cell_arr[4][5] = 1\n",
    "cell_arr[5][5] = 1\n",
    "cell_arr[6][5] = 1\n",
    "cell_arr[5][4] = 1\n",
    "cell_arr[5][6] = 1\n",
    "\n",
    "while (iteration < 10):\n",
    "    rate(2)\n",
    "    draw_cell(n)\n",
    "    cell_arr = update_cell_arr(n)\n",
    "    iteration += 1"
   ]
  },
  {
   "cell_type": "markdown",
   "id": "65c4c6b1-33d3-41a6-afc3-394c8b4cdc96",
   "metadata": {},
   "source": [
    "### Still Lifes (Block, Bee Hive, Boat, Tub)"
   ]
  },
  {
   "cell_type": "code",
   "execution_count": 28,
   "id": "327aed6a-d2b8-4eab-9878-c02e0e03e06c",
   "metadata": {},
   "outputs": [
    {
     "data": {
      "text/html": [
       "<div id=\"glowscript\" class=\"glowscript\"></div>"
      ],
      "text/plain": [
       "<IPython.core.display.HTML object>"
      ]
     },
     "metadata": {},
     "output_type": "display_data"
    },
    {
     "data": {
      "application/javascript": [
       "if (typeof Jupyter !== \"undefined\") { window.__context = { glowscript_container: $(\"#glowscript\").removeAttr(\"id\")};}else{ element.textContent = ' ';}"
      ],
      "text/plain": [
       "<IPython.core.display.Javascript object>"
      ]
     },
     "metadata": {},
     "output_type": "display_data"
    }
   ],
   "source": [
    "scene3 = canvas(background = color.white)\n",
    "\n",
    "##############\n",
    "n = 11\n",
    "##############\n",
    "\n",
    "iteration = 0\n",
    "cell_arr = np.zeros((n, n))\n",
    "\n",
    "# Block\n",
    "cell_arr[7][2] = 1\n",
    "cell_arr[7][3] = 1\n",
    "cell_arr[8][2] = 1\n",
    "cell_arr[8][3] = 1\n",
    "\n",
    "# Bee Hive\n",
    "cell_arr[1][4] = 1\n",
    "cell_arr[2][3] = 1\n",
    "cell_arr[3][3] = 1\n",
    "cell_arr[2][5] = 1\n",
    "cell_arr[3][5] = 1\n",
    "cell_arr[4][4] = 1\n",
    "\n",
    "# Tub\n",
    "cell_arr[5][7] = 1\n",
    "cell_arr[6][6] = 1\n",
    "cell_arr[7][7] = 1\n",
    "cell_arr[6][8] = 1\n",
    "\n",
    "while (iteration < 10):\n",
    "    rate(2)\n",
    "    draw_cell(n)\n",
    "    cell_arr = update_cell_arr(n)\n",
    "    iteration += 1"
   ]
  },
  {
   "cell_type": "markdown",
   "id": "c83b7f69-5de1-40ee-84be-bcade6d55c08",
   "metadata": {},
   "source": [
    "#### Oscillators"
   ]
  },
  {
   "cell_type": "code",
   "execution_count": 14,
   "id": "111070d3-c19a-4082-853a-11c325c89ea6",
   "metadata": {},
   "outputs": [
    {
     "data": {
      "text/html": [
       "<div id=\"glowscript\" class=\"glowscript\"></div>"
      ],
      "text/plain": [
       "<IPython.core.display.HTML object>"
      ]
     },
     "metadata": {},
     "output_type": "display_data"
    },
    {
     "data": {
      "application/javascript": [
       "if (typeof Jupyter !== \"undefined\") { window.__context = { glowscript_container: $(\"#glowscript\").removeAttr(\"id\")};}else{ element.textContent = ' ';}"
      ],
      "text/plain": [
       "<IPython.core.display.Javascript object>"
      ]
     },
     "metadata": {},
     "output_type": "display_data"
    }
   ],
   "source": [
    "scene4 = canvas(background = color.white)\n",
    "\n",
    "##############\n",
    "n = 11\n",
    "##############\n",
    "\n",
    "iteration = 0\n",
    "cell_arr = np.zeros((n, n))\n",
    "\n",
    "# Blinker\n",
    "cell_arr[1][3] = 1\n",
    "cell_arr[2][3] = 1\n",
    "cell_arr[3][3] = 1\n",
    "\n",
    "# Beacon\n",
    "cell_arr[8][2] = 1\n",
    "cell_arr[9][2] = 1\n",
    "cell_arr[9][3] = 1\n",
    "cell_arr[6][4] = 1\n",
    "cell_arr[6][5] = 1\n",
    "cell_arr[7][5] = 1\n",
    "\n",
    "while (iteration < 5):\n",
    "    rate(2)\n",
    "    draw_cell(n)\n",
    "    cell_arr = update_cell_arr(n)\n",
    "    iteration += 1"
   ]
  },
  {
   "cell_type": "markdown",
   "id": "0ee3830a-eccc-4f86-93ec-3d9e198bb215",
   "metadata": {},
   "source": [
    "#### Spaceships"
   ]
  },
  {
   "cell_type": "code",
   "execution_count": 15,
   "id": "e69ff653-ba8a-4f39-a8ac-4d450819d71f",
   "metadata": {},
   "outputs": [
    {
     "data": {
      "text/html": [
       "<div id=\"glowscript\" class=\"glowscript\"></div>"
      ],
      "text/plain": [
       "<IPython.core.display.HTML object>"
      ]
     },
     "metadata": {},
     "output_type": "display_data"
    },
    {
     "data": {
      "application/javascript": [
       "if (typeof Jupyter !== \"undefined\") { window.__context = { glowscript_container: $(\"#glowscript\").removeAttr(\"id\")};}else{ element.textContent = ' ';}"
      ],
      "text/plain": [
       "<IPython.core.display.Javascript object>"
      ]
     },
     "metadata": {},
     "output_type": "display_data"
    }
   ],
   "source": [
    "scene5 = canvas(background = color.white)\n",
    "\n",
    "##############\n",
    "n = 14\n",
    "##############\n",
    "\n",
    "iteration = 0\n",
    "cell_arr = np.zeros((n, n))\n",
    "\n",
    "# Glider (only made 1)\n",
    "cell_arr[1][9] = 1\n",
    "cell_arr[2][8] = 1\n",
    "cell_arr[3][8] = 1\n",
    "cell_arr[1][7] = 1\n",
    "cell_arr[2][7] = 1\n",
    "\n",
    "while (iteration < 15):\n",
    "    rate(4)\n",
    "    draw_cell(n)\n",
    "    cell_arr = update_cell_arr(n)\n",
    "    iteration += 1"
   ]
  },
  {
   "cell_type": "markdown",
   "id": "98df180d-10b9-4072-90eb-be5adfac4208",
   "metadata": {},
   "source": [
    "**Verification Process:**  \n",
    "To verify that the simulation is working properly, I ran a demo(of some random pattern that I've found), still lifes, oscillators, and spaceships. As expected, they all work the same as how they're supposed to work according to Wikipedia, and from this, I can confirm that the simulation is valid."
   ]
  },
  {
   "cell_type": "markdown",
   "id": "a675c5b1-f8a9-4d11-b51a-dc9b34dff5a9",
   "metadata": {},
   "source": [
    "## Conway's Game of Life Simulation w/ Async Updating"
   ]
  },
  {
   "cell_type": "markdown",
   "id": "79e4e927-d809-41d0-b82a-8de72b005609",
   "metadata": {},
   "source": [
    "**Selected Scheme**: random independent scheme  \n",
    "\n",
    "To implement the random independent scheme, I had to change the way cell_arr updates because now you do not want to go through all the cells to update them all. Instead, I made a watch_list that keeps all the cells that are alive and the dead cells that are adjacent. By doing so, I can simply get the length of the watch_list, pick a random index, acquire the x and y of the cell at that index, and update on that particular cell. Therefore, for every iteration (cycle), I can update a single random cell at a time. "
   ]
  },
  {
   "cell_type": "markdown",
   "id": "bc6529f3-ee7d-48a9-a8ef-190a49c9b269",
   "metadata": {},
   "source": [
    "#### Still Lives"
   ]
  },
  {
   "cell_type": "code",
   "execution_count": 18,
   "id": "0d2254c1-b918-4309-bdcb-080032bf6f2b",
   "metadata": {},
   "outputs": [],
   "source": [
    "# Update the next state of given cell (for async)\n",
    "def update_cell_arr_async(n, cell):\n",
    "    # temporary array\n",
    "    arr = cell_arr\n",
    "    i, j = cell\n",
    "    cnt = 0\n",
    "    state = cell_arr[i][j]\n",
    "            \n",
    "    for k in range(8):\n",
    "        # check out-of-bound case\n",
    "        nx = i + dir_x[k]\n",
    "        ny = j + dir_y[k]\n",
    "        if nx < 0 or ny < 0 or nx >= n or ny >= n:\n",
    "            continue\n",
    "        if cell_arr[nx][ny] == 1:\n",
    "            cnt += 1\n",
    "                    \n",
    "    # if current cell is alive\n",
    "    if state == 1 and (cnt == 2 or cnt == 3):\n",
    "        arr[i][j] = 1\n",
    "    # if current cell is dead\n",
    "    elif state == 0 and cnt == 3:\n",
    "        arr[i][j] = 1\n",
    "    else:\n",
    "        arr[i][j] = 0\n",
    "                \n",
    "    return arr\n",
    "\n",
    "def update_watch_list(n):\n",
    "    temp_watch_list = []\n",
    "    for i in range(n):\n",
    "        for j in range(n):\n",
    "            if cell_arr[i][j] == 1:\n",
    "                if (i, j) not in temp_watch_list:\n",
    "                    temp_watch_list.append((i, j))\n",
    "                for k in range(8):\n",
    "                    nx = i + dir_x[k]\n",
    "                    ny = j + dir_y[k]\n",
    "                    if nx < 0 or ny < 0 or nx >= n or ny >= n:\n",
    "                        continue\n",
    "                    if (nx, ny) not in temp_watch_list:\n",
    "                        temp_watch_list.append((nx, ny))\n",
    "                        \n",
    "    return temp_watch_list"
   ]
  },
  {
   "cell_type": "code",
   "execution_count": 19,
   "id": "0b7156b4-5948-48f7-b087-225735616228",
   "metadata": {},
   "outputs": [
    {
     "data": {
      "text/html": [
       "<div id=\"glowscript\" class=\"glowscript\"></div>"
      ],
      "text/plain": [
       "<IPython.core.display.HTML object>"
      ]
     },
     "metadata": {},
     "output_type": "display_data"
    },
    {
     "data": {
      "application/javascript": [
       "if (typeof Jupyter !== \"undefined\") { window.__context = { glowscript_container: $(\"#glowscript\").removeAttr(\"id\")};}else{ element.textContent = ' ';}"
      ],
      "text/plain": [
       "<IPython.core.display.Javascript object>"
      ]
     },
     "metadata": {},
     "output_type": "display_data"
    }
   ],
   "source": [
    "scene6 = canvas(background = color.white)\n",
    "\n",
    "##############\n",
    "n = 11\n",
    "##############\n",
    "\n",
    "iteration = 0\n",
    "cell_arr = np.zeros((n, n))\n",
    "\n",
    "# Bee Hive\n",
    "cell_arr[7][2] = 1\n",
    "cell_arr[7][3] = 1\n",
    "cell_arr[8][2] = 1\n",
    "cell_arr[8][3] = 1\n",
    "\n",
    "# Make watch list to keep the cells that we can \"possibly\" update\n",
    "# Since we're selecting cells at random, we must know what cells we can update to see changes in the screen\n",
    "watch_list = []\n",
    "watch_list = update_watch_list(n)\n",
    "\n",
    "while (iteration < 5):\n",
    "    rate(2)\n",
    "    draw_cell(n)\n",
    "    watch_list = update_watch_list(n)\n",
    "    if (len(watch_list)) == 0:\n",
    "        break\n",
    "    idx = random.randrange(len(watch_list))                # Pick random cell's idx from watch_list's size\n",
    "    cell_arr = update_cell_arr_async(n, watch_list[idx])   # Give random cell to update\n",
    "    iteration += 1"
   ]
  },
  {
   "cell_type": "markdown",
   "id": "cd11281b-422f-4efd-aea1-3b2518c00996",
   "metadata": {},
   "source": [
    "#### Oscillators"
   ]
  },
  {
   "cell_type": "code",
   "execution_count": 24,
   "id": "092ce0fa-24c6-4098-aa98-23556faa0a1f",
   "metadata": {},
   "outputs": [
    {
     "data": {
      "text/html": [
       "<div id=\"glowscript\" class=\"glowscript\"></div>"
      ],
      "text/plain": [
       "<IPython.core.display.HTML object>"
      ]
     },
     "metadata": {},
     "output_type": "display_data"
    },
    {
     "data": {
      "application/javascript": [
       "if (typeof Jupyter !== \"undefined\") { window.__context = { glowscript_container: $(\"#glowscript\").removeAttr(\"id\")};}else{ element.textContent = ' ';}"
      ],
      "text/plain": [
       "<IPython.core.display.Javascript object>"
      ]
     },
     "metadata": {},
     "output_type": "display_data"
    }
   ],
   "source": [
    "scene7 = canvas(background = color.white)\n",
    "\n",
    "##############\n",
    "n = 11\n",
    "##############\n",
    "\n",
    "iteration = 0\n",
    "cell_arr = np.zeros((n, n))\n",
    "\n",
    "# Blinker\n",
    "cell_arr[1][3] = 1\n",
    "cell_arr[2][3] = 1\n",
    "cell_arr[3][3] = 1\n",
    "\n",
    "watch_list = []\n",
    "watch_list = update_watch_list(n)\n",
    "\n",
    "while (iteration < 20):\n",
    "    rate(2)\n",
    "    draw_cell(n)\n",
    "    watch_list = update_watch_list(n)\n",
    "    if (len(watch_list)) == 0:\n",
    "        break\n",
    "    idx = random.randrange(len(watch_list))                # Pick random cell's idx from watch_list's size\n",
    "    cell_arr = update_cell_arr_async(n, watch_list[idx])   # Give random cell to update\n",
    "    iteration += 1"
   ]
  },
  {
   "cell_type": "markdown",
   "id": "2cfd87ef-adb3-43ec-af84-0cc24f421e63",
   "metadata": {},
   "source": [
    "#### Spaceships"
   ]
  },
  {
   "cell_type": "code",
   "execution_count": 22,
   "id": "92b8fe6d-4514-4748-9a3b-a10eb82721b0",
   "metadata": {},
   "outputs": [
    {
     "data": {
      "text/html": [
       "<div id=\"glowscript\" class=\"glowscript\"></div>"
      ],
      "text/plain": [
       "<IPython.core.display.HTML object>"
      ]
     },
     "metadata": {},
     "output_type": "display_data"
    },
    {
     "data": {
      "application/javascript": [
       "if (typeof Jupyter !== \"undefined\") { window.__context = { glowscript_container: $(\"#glowscript\").removeAttr(\"id\")};}else{ element.textContent = ' ';}"
      ],
      "text/plain": [
       "<IPython.core.display.Javascript object>"
      ]
     },
     "metadata": {},
     "output_type": "display_data"
    }
   ],
   "source": [
    "scene7 = canvas(background = color.white)\n",
    "\n",
    "##############\n",
    "n = 14\n",
    "##############\n",
    "\n",
    "iteration = 0\n",
    "cell_arr = np.zeros((n, n))\n",
    "\n",
    "# Glider (only made 1)\n",
    "cell_arr[2][9] = 1\n",
    "cell_arr[3][8] = 1\n",
    "cell_arr[4][8] = 1\n",
    "cell_arr[2][7] = 1\n",
    "cell_arr[3][7] = 1\n",
    "\n",
    "watch_list = []\n",
    "watch_list = update_watch_list(n)\n",
    "\n",
    "while (iteration < 15):\n",
    "    rate(2)\n",
    "    draw_cell(n)\n",
    "    watch_list = update_watch_list(n)\n",
    "    if (len(watch_list)) == 0:\n",
    "        break\n",
    "    idx = random.randrange(len(watch_list))                # Pick random cell's idx from watch_list's size\n",
    "    cell_arr = update_cell_arr_async(n, watch_list[idx])   # Give random cell to update\n",
    "    iteration += 1"
   ]
  },
  {
   "cell_type": "markdown",
   "id": "655de194-78a1-4b0a-8217-35b6535d6ef4",
   "metadata": {},
   "source": [
    "### Comparison between Async. vs Sync. Updating"
   ]
  },
  {
   "cell_type": "markdown",
   "id": "edc2c1fd-cd10-49fe-a746-14afd7b7f274",
   "metadata": {},
   "source": [
    "**Still Lifes:**  \n",
    "There's no significant difference between the Game of Life with sync. and async. updating. \n",
    "\n",
    "**Oscillators:**  \n",
    "The difference starts to appear. From sync. updating, the oscillator that I used (blinker) updates and changes the form as expected. However, in async. updating, the blinker doesn't show any behavior of oscillators but instead, it either completely disappears, or multiplies in number, which is something that we couldn't see from the simulation with sync. updating. \n",
    "\n",
    "**Spaceships:**  \n",
    "Similar to oscillators, in the simulation with sync. updating, the spaceships move across the screen over time. However, the simulation with async. updating doesn't move but instead, changes its form, which is completely different from what it was doing.\n",
    "\n"
   ]
  },
  {
   "cell_type": "code",
   "execution_count": null,
   "id": "cd28533d-ac58-47d7-a403-123abc46aa81",
   "metadata": {},
   "outputs": [],
   "source": []
  }
 ],
 "metadata": {
  "kernelspec": {
   "display_name": "Python 3 (ipykernel)",
   "language": "python",
   "name": "python3"
  },
  "language_info": {
   "codemirror_mode": {
    "name": "ipython",
    "version": 3
   },
   "file_extension": ".py",
   "mimetype": "text/x-python",
   "name": "python",
   "nbconvert_exporter": "python",
   "pygments_lexer": "ipython3",
   "version": "3.10.13"
  }
 },
 "nbformat": 4,
 "nbformat_minor": 5
}
