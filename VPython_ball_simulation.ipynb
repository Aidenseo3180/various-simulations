{
 "cells": [
  {
   "cell_type": "markdown",
   "id": "824ed5be-5442-4681-b061-f7a32ae84241",
   "metadata": {},
   "source": [
    "# Code\n",
    "Below are the tutorial codes for ECE1180 Project 0  "
   ]
  },
  {
   "cell_type": "markdown",
   "id": "ff2663d7-06f1-4aae-b948-f201ef5dbbbf",
   "metadata": {},
   "source": [
    "### One Wall\n",
    "This is a code for a sphere with one wall  \n",
    "In this section, only 1 wall is present and the ball bounces back when it touches the wall"
   ]
  },
  {
   "cell_type": "code",
   "execution_count": 7,
   "id": "aa1283b2-52db-4f95-a866-7891f0a89400",
   "metadata": {
    "tags": []
   },
   "outputs": [
    {
     "data": {
      "text/html": [
       "<div id=\"glowscript\" class=\"glowscript\"></div>"
      ],
      "text/plain": [
       "<IPython.core.display.HTML object>"
      ]
     },
     "metadata": {},
     "output_type": "display_data"
    },
    {
     "data": {
      "application/javascript": [
       "if (typeof Jupyter !== \"undefined\") { window.__context = { glowscript_container: $(\"#glowscript\").removeAttr(\"id\")};}else{ element.textContent = ' ';}"
      ],
      "text/plain": [
       "<IPython.core.display.Javascript object>"
      ]
     },
     "metadata": {},
     "output_type": "display_data"
    }
   ],
   "source": [
    "from vpython import *\n",
    "scene = canvas()\n",
    "\n",
    "ball = sphere(pos=vector(-5,0,0), radius=0.5, color=color.cyan)\n",
    "wallR = box(pos=vector(6,0,0), size=vector(0.2, 12, 12), color=color.green)  #wall Right\n",
    "ball.velocity = vector(25, 0, 0)\n",
    "deltat = 0.005\n",
    "t = 0\n",
    "while t < 3:\n",
    "    rate(100)        \n",
    "    #When it touches the wall, flip the velocity so that the ball moves in the opposite direction\n",
    "    if (ball.pos.x+ball.radius) > (wallR.pos.x-wallR.size.x):\n",
    "        ball.velocity.x = -ball.velocity.x\n",
    "    ball.pos = ball.pos + ball.velocity*deltat\n",
    "    t = t + deltat"
   ]
  },
  {
   "cell_type": "markdown",
   "id": "3ea350db-05ba-4857-8caa-2b2f06ec64c0",
   "metadata": {},
   "source": [
    "**Analysis:** Since the while loop contains the conditional statement that checks if the ball has touched the wall, it bounces back when it comes to a contact with the wall. The camera zooms out to fit all the objects that are present in canvas."
   ]
  },
  {
   "cell_type": "markdown",
   "id": "cb6e51c0-1a3e-4ff2-9cb6-81130c692646",
   "metadata": {},
   "source": [
    "### Two Walls\n",
    "This is a code for a sphere with 2 walls  \n",
    "Now, the ball is surrounded by the walls, and it moves around whenever it is in contact with the walls"
   ]
  },
  {
   "cell_type": "code",
   "execution_count": 8,
   "id": "44a433ff-e58b-4e70-9336-bc8e205b0848",
   "metadata": {},
   "outputs": [
    {
     "data": {
      "text/html": [
       "<div id=\"glowscript\" class=\"glowscript\"></div>"
      ],
      "text/plain": [
       "<IPython.core.display.HTML object>"
      ]
     },
     "metadata": {},
     "output_type": "display_data"
    },
    {
     "data": {
      "application/javascript": [
       "if (typeof Jupyter !== \"undefined\") { window.__context = { glowscript_container: $(\"#glowscript\").removeAttr(\"id\")};}else{ element.textContent = ' ';}"
      ],
      "text/plain": [
       "<IPython.core.display.Javascript object>"
      ]
     },
     "metadata": {},
     "output_type": "display_data"
    }
   ],
   "source": [
    "from vpython import *\n",
    "scene = canvas()\n",
    "\n",
    "ball = sphere(pos=vector(-5,0,0), radius=0.5, color=color.cyan)\n",
    "wallL = box(pos=vector(-6,0,0), size=vector(0.2,12,12), color=color.green)  #wall left\n",
    "wallR = box(pos=vector(6,0,0), size=vector(0.2, 12, 12), color=color.green) #wall right\n",
    "ball.velocity = vector(25, 0, 0)\n",
    "deltat = 0.005\n",
    "t = 0\n",
    "while t < 3:\n",
    "    rate(100)       \n",
    "    #When it touches the wall, flip the velocity so that the ball moves in the opposite direction\n",
    "    if (ball.pos.x-ball.radius) < (wallL.pos.x+wallL.size.x) or (ball.pos.x+ball.radius) > (wallR.pos.x-wallR.size.x):\n",
    "        ball.velocity.x = -ball.velocity.x\n",
    "    ball.pos = ball.pos + ball.velocity*deltat\n",
    "    t = t + deltat"
   ]
  },
  {
   "cell_type": "markdown",
   "id": "0f0ca627-cfad-4f0f-b396-efaf75acbbdf",
   "metadata": {},
   "source": [
    "**Analysis:** Now since there are 2 walls in the front and the back of the ball, the ball bounces back and forth until it times out."
   ]
  },
  {
   "cell_type": "markdown",
   "id": "cc1e0711-711d-4730-8237-6ef0619842fe",
   "metadata": {},
   "source": [
    "### Visualizing Velocity with Trail\n",
    "This is a code for the visualizing the vector using an arrow that leaves a trail  \n",
    "Not too different from the above, but now it leaves the trail and displays the vector in a form of an arrow"
   ]
  },
  {
   "cell_type": "code",
   "execution_count": 9,
   "id": "0757af45-9d9e-40e5-9083-80851081ce32",
   "metadata": {},
   "outputs": [
    {
     "data": {
      "text/html": [
       "<div id=\"glowscript\" class=\"glowscript\"></div>"
      ],
      "text/plain": [
       "<IPython.core.display.HTML object>"
      ]
     },
     "metadata": {},
     "output_type": "display_data"
    },
    {
     "data": {
      "application/javascript": [
       "if (typeof Jupyter !== \"undefined\") { window.__context = { glowscript_container: $(\"#glowscript\").removeAttr(\"id\")};}else{ element.textContent = ' ';}"
      ],
      "text/plain": [
       "<IPython.core.display.Javascript object>"
      ]
     },
     "metadata": {},
     "output_type": "display_data"
    }
   ],
   "source": [
    "from vpython import *\n",
    "scene = canvas()\n",
    "\n",
    "ball = sphere(pos=vector(-5,0,0), radius=0.5, color=color.cyan, make_trail = True)\n",
    "wallL = box(pos=vector(-6,0,0), size=vector(0.2, 12, 12), color=color.green)  #wall left\n",
    "wallR = box(pos=vector(6,0,0), size=vector(0.2, 12, 12), color=color.green)   #wall right\n",
    "ball.velocity = vector(25, 0, 0)\n",
    "vscale = 0.1\n",
    "varr = arrow(pos=ball.pos, axis=ball.velocity*vscale, color=color.yellow)\n",
    "deltat = 0.005\n",
    "t = 0\n",
    "\n",
    "#autoscaling\n",
    "scene.autoscale = False\n",
    "while t < 3:\n",
    "    rate(100)\n",
    "    #When it touches the wall, flip the velocity so that the ball moves in the opposite direction\n",
    "    if (ball.pos.x-ball.radius) < (wallL.pos.x+wallL.size.x) or (ball.pos.x+ball.radius) > (wallR.pos.x-wallR.size.x):\n",
    "        ball.velocity.x = -ball.velocity.x\n",
    "    ball.pos = ball.pos + ball.velocity*deltat\n",
    "    t = t + deltat\n",
    "    #update arrow\n",
    "    varr.pos = ball.pos\n",
    "    varr.axis = ball.velocity*vscale"
   ]
  },
  {
   "cell_type": "markdown",
   "id": "3d10cc1e-1b1b-460a-8e87-856a7615a412",
   "metadata": {},
   "source": [
    "**Analysis:** Again, since there are walls in both the front and the back of the wall, it bounces back and forth. What's different is that now it leaves the trail and shows an arrow that points at the direction of its velocity"
   ]
  },
  {
   "cell_type": "markdown",
   "id": "f38d1d8b-771a-4a98-9b69-3529f63895a4",
   "metadata": {},
   "source": [
    "### Making the ball bounce around inside a box\n",
    "This is a code for the ball moving around inside a box while visualizing its vector with an arrow and leaving a trail  \n",
    "The ball moves around as it touches the wall of the box"
   ]
  },
  {
   "cell_type": "code",
   "execution_count": 10,
   "id": "c066eccb-b064-40d0-baf7-bb34dc3c753a",
   "metadata": {},
   "outputs": [
    {
     "data": {
      "text/html": [
       "<div id=\"glowscript\" class=\"glowscript\"></div>"
      ],
      "text/plain": [
       "<IPython.core.display.HTML object>"
      ]
     },
     "metadata": {},
     "output_type": "display_data"
    },
    {
     "data": {
      "application/javascript": [
       "if (typeof Jupyter !== \"undefined\") { window.__context = { glowscript_container: $(\"#glowscript\").removeAttr(\"id\")};}else{ element.textContent = ' ';}"
      ],
      "text/plain": [
       "<IPython.core.display.Javascript object>"
      ]
     },
     "metadata": {},
     "output_type": "display_data"
    }
   ],
   "source": [
    "from vpython import *\n",
    "scene = canvas()\n",
    "\n",
    "ball = sphere(pos=vector(-5,0,0), radius=0.5, color=color.cyan, make_trail = True)\n",
    "wallL = box(pos=vector(-6,0,0), size=vector(0.2, 12, 12), color=color.green)  #wall left\n",
    "wallR = box(pos=vector(6,0,0), size=vector(0.2, 12, 12), color=color.green)   #wall right\n",
    "wallT = box(pos=vector(0,6,0), size=vector(12,0.2,12), color=color.blue)      #wall top\n",
    "wallD = box(pos=vector(0,-6,0), size=vector(12,0.2,12), color=color.blue)     #wall down(bottom)\n",
    "wallB = box(pos=vector(0,0,-6), size=vector(12,12,0.2), color=color.red)      #wall back\n",
    "\n",
    "ball.velocity = vector(25, 5, 15)\n",
    "vscale = 0.1\n",
    "varr = arrow(pos=ball.pos, axis=ball.velocity*vscale, color=color.yellow)\n",
    "deltat = 0.005\n",
    "t = 0\n",
    "\n",
    "#autoscaling\n",
    "scene.autoscale = False\n",
    "while t < 3:\n",
    "    rate(100)\n",
    "    #Check if the ball exceeds the walls' x,y,and z, and flip its velocity accordingly so that the ball moves in the opposite direction\n",
    "    if (ball.pos.x-ball.radius) < (wallL.pos.x+wallL.size.x) or (ball.pos.x+ball.radius) > (wallR.pos.x-wallR.size.x):\n",
    "        ball.velocity.x = -ball.velocity.x\n",
    "    if (ball.pos.y-ball.radius) < (wallD.pos.y+wallD.size.y) or (ball.pos.y+ball.radius) > (wallT.pos.y-wallT.size.y):\n",
    "        ball.velocity.y = -ball.velocity.y\n",
    "    #6 for invisible front wall, 0.2 for thickness of the wall\n",
    "    if (ball.pos.z-ball.radius) < (wallB.pos.z+wallB.size.z) or (ball.pos.z+ball.radius) > (6 - 0.2):\n",
    "        ball.velocity.z = -ball.velocity.z\n",
    "        \n",
    "    ball.pos = ball.pos + ball.velocity*deltat\n",
    "    t = t + deltat\n",
    "    #update arrow\n",
    "    varr.pos = ball.pos\n",
    "    varr.axis = ball.velocity*vscale"
   ]
  },
  {
   "cell_type": "markdown",
   "id": "01fa65bf-b572-42c2-92cc-879a99f7ebfc",
   "metadata": {},
   "source": [
    "**Analysis:** since the ball is now placed inside a box, it bounces around as it gets into a contact with the walls with an arrow that shows the direction of its velocity and its trail."
   ]
  },
  {
   "cell_type": "markdown",
   "id": "1968f0fa-207f-40fc-86ba-a79aef360950",
   "metadata": {},
   "source": [
    "# Goals"
   ]
  },
  {
   "cell_type": "markdown",
   "id": "f1ce4c81-fc07-4734-b077-d12f42c48b77",
   "metadata": {},
   "source": [
    "Coming from an engineering background, I am capable of using C, C++, Python, and Java to develop applications and programs. Since I've also worked in the software engineering industry, I know HTML/CSS/Javascript and database languages such as PostgreSQL. From this course, I would like to have experience in developing a simulation using various formulas from the field of physics. I am mostly interested in visualizing mathematical equations to create a simulation that everyone can understand at a glance without having to look at complex formulas that are running behind the scenes. From this course, I wish I could learn about fluid dynamics."
   ]
  },
  {
   "cell_type": "code",
   "execution_count": null,
   "id": "048ba8f5-4693-4571-a95e-1de12b9d7935",
   "metadata": {},
   "outputs": [],
   "source": []
  }
 ],
 "metadata": {
  "kernelspec": {
   "display_name": "Python 3 (ipykernel)",
   "language": "python",
   "name": "python3"
  },
  "language_info": {
   "codemirror_mode": {
    "name": "ipython",
    "version": 3
   },
   "file_extension": ".py",
   "mimetype": "text/x-python",
   "name": "python",
   "nbconvert_exporter": "python",
   "pygments_lexer": "ipython3",
   "version": "3.10.13"
  }
 },
 "nbformat": 4,
 "nbformat_minor": 5
}
